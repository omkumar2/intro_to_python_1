{
 "cells": [
  {
   "cell_type": "markdown",
   "id": "38254701",
   "metadata": {},
   "source": [
    "## numpy array and basics\n",
    "learn about numpy with chai aurcode"
   ]
  },
  {
   "cell_type": "code",
   "execution_count": 1,
   "id": "2a485c45",
   "metadata": {},
   "outputs": [],
   "source": [
    "import numpy as np"
   ]
  },
  {
   "cell_type": "code",
   "execution_count": 1,
   "id": "098f2872",
   "metadata": {},
   "outputs": [],
   "source": [
    "import random"
   ]
  },
  {
   "cell_type": "code",
   "execution_count": 4,
   "id": "a860f104",
   "metadata": {},
   "outputs": [
    {
     "name": "stdout",
     "output_type": "stream",
     "text": [
      "Tails\n",
      "Heads\n"
     ]
    }
   ],
   "source": [
    "#next\n",
    "#let us simulate a coin toss.\n",
    "\n",
    "\n",
    "a = random.randrange(1,10)  # Generates a number between 0.0 and 1.0\n",
    "if a < 0.5:\n",
    "    print(\"Heads\")\n",
    "else:\n",
    "    print(\"Tails\")  # This Is a Random head and tail\n",
    "  \n",
    "  \n",
    "import random\n",
    "\n",
    "outcome = random.choice([\"Heads\", \"Tails\"])\n",
    "print(outcome)\n",
    "\n"
   ]
  }
 ],
 "metadata": {
  "kernelspec": {
   "display_name": "Python 3",
   "language": "python",
   "name": "python3"
  },
  "language_info": {
   "codemirror_mode": {
    "name": "ipython",
    "version": 3
   },
   "file_extension": ".py",
   "mimetype": "text/x-python",
   "name": "python",
   "nbconvert_exporter": "python",
   "pygments_lexer": "ipython3",
   "version": "3.13.2"
  }
 },
 "nbformat": 4,
 "nbformat_minor": 5
}
