{
 "cells": [
  {
   "cell_type": "markdown",
   "id": "38254701",
   "metadata": {},
   "source": [
    "## numpy array and basics\n",
    "learn about numpy with chai aurcode"
   ]
  }
 ],
 "metadata": {
  "language_info": {
   "name": "python"
  }
 },
 "nbformat": 4,
 "nbformat_minor": 5
}
