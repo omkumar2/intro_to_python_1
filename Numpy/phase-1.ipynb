{
 "cells": [
  {
   "cell_type": "markdown",
   "id": "38254701",
   "metadata": {},
   "source": [
    "## numpy array and basics\n",
    "learn about numpy with chai aurcode"
   ]
  },
  {
   "cell_type": "code",
   "execution_count": 1,
   "id": "2a485c45",
   "metadata": {},
   "outputs": [],
   "source": [
    "import numpy as np"
   ]
  },
  {
   "cell_type": "markdown",
   "id": "03565bf1",
   "metadata": {},
   "source": [
    "### creating array from list\n"
   ]
  },
  {
   "cell_type": "code",
   "execution_count": 2,
   "id": "338fde97",
   "metadata": {},
   "outputs": [
    {
     "name": "stdout",
     "output_type": "stream",
     "text": [
      "1D array: [1 2 3 4 5]\n",
      "2D array:\n",
      " [[1 2 3]\n",
      " [4 5 6]]\n"
     ]
    }
   ],
   "source": [
    "arr_1 = np.array([1,2,3,4,5])\n",
    "print(\"1D array:\", arr_1)\n",
    "\n",
    "arr_2 = np.array([[1,2,3],[4,5,6]])\n",
    "print(\"2D array:\\n\", arr_2)"
   ]
  },
  {
   "cell_type": "markdown",
   "id": "8a10d6e4",
   "metadata": {},
   "source": [
    "### List vs numpy array"
   ]
  },
  {
   "cell_type": "code",
   "execution_count": 3,
   "id": "db92f1a0",
   "metadata": {},
   "outputs": [
    {
     "name": "stdout",
     "output_type": "stream",
     "text": [
      "python List multiplication:  [1, 2, 3, 1, 2, 3]\n",
      "numpy array multiplication:  [2 4 6]\n",
      "\n",
      " List operation time:  0.07765746116638184\n",
      "Numpy operation time:  0.005597114562988281\n"
     ]
    }
   ],
   "source": [
    "py_list = [1,2,3]\n",
    "print(\"python List multiplication: \", py_list * 2)\n",
    "\n",
    "np_array = np.array([1,2,3]) #element-wise multiplication\n",
    "print(\"numpy array multiplication: \", np_array * 2)\n",
    "\n",
    "import time\n",
    "start = time.time()\n",
    "py_list = [i*2 for i in range(1000000)]\n",
    "print(\"\\n List operation time: \", time.time() - start)\n",
    "\n",
    "start = time.time()\n",
    "np_array = np.arange(1000000) * 2\n",
    "print(\"Numpy operation time: \", time.time() - start)"
   ]
  },
  {
   "cell_type": "markdown",
   "id": "fe453d02",
   "metadata": {},
   "source": [
    "### ceating from scratch"
   ]
  },
  {
   "cell_type": "code",
   "execution_count": 4,
   "id": "62012b29",
   "metadata": {},
   "outputs": [
    {
     "name": "stdout",
     "output_type": "stream",
     "text": [
      "Zeros array:\n",
      " [[0. 0. 0. 0.]\n",
      " [0. 0. 0. 0.]\n",
      " [0. 0. 0. 0.]]\n",
      "Ones array:\n",
      " [[1. 1. 1.]\n",
      " [1. 1. 1.]]\n",
      "Full array:\n",
      " [[5 5 5]\n",
      " [5 5 5]]\n",
      "Random array:\n",
      " [[0.04775098 0.66711466 0.08592296]\n",
      " [0.5265058  0.0051443  0.02560758]]\n",
      "Sequence array:\n",
      " [0 2 4 6 8]\n"
     ]
    }
   ],
   "source": [
    "zeros = np.zeros((3,4))\n",
    "print(\"Zeros array:\\n\", zeros)\n",
    "\n",
    "ones = np.ones((2,3))\n",
    "print(\"Ones array:\\n\", ones)\n",
    "\n",
    "full = np.full((2,3), 5)\n",
    "print(\"Full array:\\n\", full)\n",
    "\n",
    "random = np.random.random((2,3))\n",
    "print(\"Random array:\\n\", random)\n",
    "\n",
    "sequence = np.arange(0, 10, 2)\n",
    "print(\"Sequence array:\\n\", sequence)\n",
    "\n"
   ]
  },
  {
   "cell_type": "markdown",
   "id": "d491f4ac",
   "metadata": {},
   "source": [
    "### vector , matrix and tensor"
   ]
  },
  {
   "cell_type": "code",
   "execution_count": 5,
   "id": "ad2bcd0b",
   "metadata": {},
   "outputs": [
    {
     "name": "stdout",
     "output_type": "stream",
     "text": [
      "Vector:\n",
      " [1 2 3]\n",
      "Matrix:\n",
      " [[1 2 3]\n",
      " [4 5 6]]\n",
      "Tensor:\n",
      " [[[1 2]\n",
      "  [3 4]]\n",
      "\n",
      " [[5 6]\n",
      "  [7 8]]]\n"
     ]
    }
   ],
   "source": [
    "vector = np.array([1,2,3])\n",
    "print(\"Vector:\\n\", vector)\n",
    "\n",
    "matrix = np.array([[1,2,3],[4,5,6]])\n",
    "print(\"Matrix:\\n\", matrix)\n",
    "\n",
    "tensor = np.array([[[1,2],[3,4]],[[5,6],[7,8]]])\n",
    "print(\"Tensor:\\n\", tensor)\n"
   ]
  },
  {
   "cell_type": "markdown",
   "id": "16f22a0c",
   "metadata": {},
   "source": [
    "### Array properties "
   ]
  },
  {
   "cell_type": "code",
   "execution_count": 6,
   "id": "a2bba9f4",
   "metadata": {},
   "outputs": [
    {
     "name": "stdout",
     "output_type": "stream",
     "text": [
      "shape: (2, 3)\n",
      "ndim: 2\n",
      "size: 6\n",
      "dtype: int64\n"
     ]
    }
   ],
   "source": [
    "arr = np.array([[1,2,3],[4,5,6]])\n",
    "\n",
    "print('shape:', arr.shape) \n",
    "print('ndim:', arr.ndim) \n",
    "print('size:', arr.size) \n",
    "print('dtype:', arr.dtype) "
   ]
  },
  {
   "cell_type": "markdown",
   "id": "f2e604dd",
   "metadata": {},
   "source": [
    "### Array reshaping"
   ]
  },
  {
   "cell_type": "code",
   "execution_count": 7,
   "id": "01cc7b15",
   "metadata": {},
   "outputs": [
    {
     "name": "stdout",
     "output_type": "stream",
     "text": [
      "Original array: [ 0  1  2  3  4  5  6  7  8  9 10 11]\n",
      "Reshaped array:\n",
      " [[ 0  1  2  3]\n",
      " [ 4  5  6  7]\n",
      " [ 8  9 10 11]]\n",
      "Flattened array: [ 0  1  2  3  4  5  6  7  8  9 10 11]\n",
      "Raveled array: [ 0  1  2  3  4  5  6  7  8  9 10 11]\n",
      "Transposed array:\n",
      " [[ 0  4  8]\n",
      " [ 1  5  9]\n",
      " [ 2  6 10]\n",
      " [ 3  7 11]]\n"
     ]
    }
   ],
   "source": [
    "arr = np.arange(12)\n",
    "print('Original array:', arr)\n",
    "\n",
    "reshaped = arr.reshape(3, 4)\n",
    "print('Reshaped array:\\n', reshaped)\n",
    "\n",
    "flattened = reshaped.flatten()\n",
    "print('Flattened array:', flattened)\n",
    "\n",
    "#reveled (returns view , instead of copy)\n",
    "\n",
    "raveled = reshaped.ravel()\n",
    "print('Raveled array:', raveled)\n",
    "\n",
    "transposed = reshaped.T\n",
    "print('Transposed array:\\n', transposed)\n",
    "\n"
   ]
  }
 ],
 "metadata": {
  "kernelspec": {
   "display_name": "Python 3",
   "language": "python",
   "name": "python3"
  },
  "language_info": {
   "codemirror_mode": {
    "name": "ipython",
    "version": 3
   },
   "file_extension": ".py",
   "mimetype": "text/x-python",
   "name": "python",
   "nbconvert_exporter": "python",
   "pygments_lexer": "ipython3",
   "version": "3.13.2"
  }
 },
 "nbformat": 4,
 "nbformat_minor": 5
}
