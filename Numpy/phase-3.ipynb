{
 "cells": [
  {
   "cell_type": "markdown",
   "id": "f22c8da2",
   "metadata": {},
   "source": [
    "### Advance operation with Business examples"
   ]
  },
  {
   "cell_type": "code",
   "execution_count": 1,
   "id": "7b0a4fe0",
   "metadata": {},
   "outputs": [],
   "source": [
    "import numpy as np\n",
    "import matplotlib.pyplot as plt"
   ]
  },
  {
   "cell_type": "code",
   "execution_count": 2,
   "id": "266139e3",
   "metadata": {},
   "outputs": [
    {
     "name": "stdout",
     "output_type": "stream",
     "text": [
      "==== Zamto sales analysis ====\n",
      "\n",
      " Sales data shape (5, 5)\n",
      "\n",
      " Sample data for 1st # restau:  [[150000 180000 220000 250000]\n",
      " [120000 140000 160000 190000]\n",
      " [200000 230000 260000 300000]\n",
      " [180000 210000 240000 230000]\n",
      " [160000 185000 205000 230000]]\n",
      "\n",
      " Sample data for 1st # restau:  [[     1 150000 180000 220000 250000]\n",
      " [     2 120000 140000 160000 190000]\n",
      " [     3 200000 230000 260000 300000]]\n"
     ]
    }
   ],
   "source": [
    "# Data structure: [restaurant_id, 2021, 2022, 2023, 2024]\n",
    "sales_data = np.array([\n",
    "    [1, 150000, 180000, 220000, 250000], # Paradise Biryani\n",
    "    [2, 120000, 140000, 160000, 190000], # Beijing Bites\n",
    "    [3, 200000, 230000, 260000, 300000], # Pizza Hub\n",
    "    [4, 180000, 210000, 240000, 230000], # Burger Point\n",
    "    [5, 160000, 185000, 205000, 230000], # Chai Point\n",
    "])\n",
    "\n",
    "print(\"==== Zamto sales analysis ====\")\n",
    "print(\"\\n Sales data shape\",sales_data.shape)\n",
    "print(\"\\n Sample data for 1st # restau: \", sales_data[:, 1:])\n",
    "print(\"\\n Sample data for 1st # restau: \", sales_data[:3])\n",
    "\n"
   ]
  },
  {
   "cell_type": "code",
   "execution_count": 3,
   "id": "ff44609d",
   "metadata": {},
   "outputs": [
    {
     "name": "stdout",
     "output_type": "stream",
     "text": [
      "[     15  810000  945000 1085000 1200000]\n",
      "\n",
      " Total sales per year:  [ 810000  945000 1085000 1200000]\n"
     ]
    }
   ],
   "source": [
    "# total sales per year\n",
    "print(np.sum(sales_data, axis=0))\n",
    "yeary_total = np.sum(sales_data[:, 1:], axis=0)\n",
    "print(\"\\n Total sales per year: \", yeary_total)\n"
   ]
  }
 ],
 "metadata": {
  "kernelspec": {
   "display_name": "Python 3",
   "language": "python",
   "name": "python3"
  },
  "language_info": {
   "codemirror_mode": {
    "name": "ipython",
    "version": 3
   },
   "file_extension": ".py",
   "mimetype": "text/x-python",
   "name": "python",
   "nbconvert_exporter": "python",
   "pygments_lexer": "ipython3",
   "version": "3.13.2"
  }
 },
 "nbformat": 4,
 "nbformat_minor": 5
}
