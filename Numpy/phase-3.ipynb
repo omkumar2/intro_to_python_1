{
 "cells": [
  {
   "cell_type": "markdown",
   "id": "f22c8da2",
   "metadata": {},
   "source": [
    "### Advance operation with Business examples"
   ]
  },
  {
   "cell_type": "markdown",
   "id": "266139e3",
   "metadata": {},
   "source": [
    "# Data structure: [restaurant_id, 2021, 2022, 2023, 2024]\n",
    "sales_data = np.array([\n",
    "    [1, 150000, 180000, 220000, 250000], # Paradise Biryani\n",
    "    [2, 120000, 140000, 160000, 190000], # Beijing Bites\n",
    "    [3, 200000, 230000, 260000, 300000], # Pizza Hub\n",
    "    [4, 180000, 210000, 240000, 230000], # Burger Point\n",
    "    [5, 160000, 185000, 205000, 230000], # Chai Point\n",
    "])\n",
    "\n"
   ]
  }
 ],
 "metadata": {
  "language_info": {
   "name": "python"
  }
 },
 "nbformat": 4,
 "nbformat_minor": 5
}
