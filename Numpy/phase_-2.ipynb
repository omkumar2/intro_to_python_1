{
 "cells": [
  {
   "cell_type": "markdown",
   "id": "b4ea60cb",
   "metadata": {},
   "source": [
    "## Numpy Array operations"
   ]
  },
  {
   "cell_type": "code",
   "execution_count": 1,
   "id": "92bf9091",
   "metadata": {},
   "outputs": [],
   "source": [
    "import numpy as np"
   ]
  },
  {
   "cell_type": "code",
   "execution_count": 2,
   "id": "1dc2907b",
   "metadata": {},
   "outputs": [
    {
     "name": "stdout",
     "output_type": "stream",
     "text": [
      "Basic slicing, arr[2:7]\n",
      "with step [2 4]\n",
      "Negative indexing 3\n"
     ]
    }
   ],
   "source": [
    "arr = np.array([1,2,3,4,5])\n",
    "print(\"Basic slicing, arr[2:7]\")\n",
    "print(\"with step\", arr[1:8:2])\n",
    "print(\"Negative indexing\", arr[-3])\n"
   ]
  },
  {
   "cell_type": "code",
   "execution_count": 3,
   "id": "b421e236",
   "metadata": {},
   "outputs": [
    {
     "name": "stdout",
     "output_type": "stream",
     "text": [
      "specific element  6\n",
      "Entire row:  [4 5 6]\n",
      "Entire column:  [2 5 8]\n"
     ]
    }
   ],
   "source": [
    "arr_2d =np.array([[1,2,3],\n",
    "                  [4,5,6],\n",
    "                  [7,8,9]])\n",
    "print(\"specific element \", arr_2d[1, 2])\n",
    "print(\"Entire row: \", arr_2d[1])\n",
    "print(\"Entire column: \", arr_2d[:, 1])\n",
    "\n"
   ]
  },
  {
   "cell_type": "markdown",
   "id": "39dc1bfa",
   "metadata": {},
   "source": [
    "### Sorting"
   ]
  },
  {
   "cell_type": "code",
   "execution_count": 4,
   "id": "a8bb036b",
   "metadata": {},
   "outputs": [
    {
     "name": "stdout",
     "output_type": "stream",
     "text": [
      "Sorted array:  [1 1 2 3 3 4 5 5 5 6 9]\n",
      "sorted 2d array by column:  [[1 1]\n",
      " [2 2]\n",
      " [3 3]]\n"
     ]
    }
   ],
   "source": [
    "unsorted = np.array([3,1,4,1,5,9,2,6,5,3,5])\n",
    "print(\"Sorted array: \", np.sort(unsorted))\n",
    "\n",
    "arr_2d_unsorted = np.array([[3,1],[1,2],[2,3]])\n",
    "print(\"sorted 2d array by column: \", np.sort(arr_2d_unsorted, axis = 0))\n"
   ]
  },
  {
   "cell_type": "markdown",
   "id": "16683c40",
   "metadata": {},
   "source": [
    "## Filter"
   ]
  },
  {
   "cell_type": "code",
   "execution_count": 5,
   "id": "3044d2ab",
   "metadata": {},
   "outputs": [
    {
     "name": "stdout",
     "output_type": "stream",
     "text": [
      "Even numbers:  [ 2  4  6  8 10]\n"
     ]
    }
   ],
   "source": [
    "numbers = np.array([1,2,3,4,5,6,7,8,9,10])\n",
    "even_numbers = numbers[numbers % 2 == 0]\n",
    "print(\"Even numbers: \", even_numbers)\n"
   ]
  },
  {
   "cell_type": "markdown",
   "id": "788d65e4",
   "metadata": {},
   "source": [
    "### Filter with mask"
   ]
  },
  {
   "cell_type": "code",
   "execution_count": 6,
   "id": "82b8962c",
   "metadata": {},
   "outputs": [
    {
     "name": "stdout",
     "output_type": "stream",
     "text": [
      "Numbers greater than 5  [ 6  7  8  9 10]\n"
     ]
    }
   ],
   "source": [
    "mask = numbers > 5\n",
    "print(\"Numbers greater than 5 \", numbers[mask])\n"
   ]
  },
  {
   "cell_type": "markdown",
   "id": "8312d317",
   "metadata": {},
   "source": [
    "### Fancy indexing vs np.where()"
   ]
  },
  {
   "cell_type": "code",
   "execution_count": 7,
   "id": "b63c554f",
   "metadata": {},
   "outputs": [
    {
     "name": "stdout",
     "output_type": "stream",
     "text": [
      "[1 3 5]\n",
      "(array([5, 6, 7, 8, 9]),)\n",
      "NP where:  [ 6  7  8  9 10]\n"
     ]
    }
   ],
   "source": [
    "indices = [0, 2, 4]\n",
    "print(numbers[indices])\n",
    "\n",
    "where = np.where(numbers > 5)\n",
    "print(where)\n",
    "print(\"NP where: \", numbers[where])\n"
   ]
  },
  {
   "cell_type": "code",
   "execution_count": 8,
   "id": "e0ebc66d",
   "metadata": {},
   "outputs": [
    {
     "name": "stdout",
     "output_type": "stream",
     "text": [
      "['False' 'False' 'False' 'False' 'False' 'True' 'True' 'True' 'True'\n",
      " 'True']\n"
     ]
    }
   ],
   "source": [
    "condition_array = np.where(numbers > 5, \"True\" , \"False\")\n",
    "print(condition_array)\n"
   ]
  },
  {
   "cell_type": "markdown",
   "id": "ee8c8090",
   "metadata": {},
   "source": [
    "### Adding and Removeing data"
   ]
  },
  {
   "cell_type": "code",
   "execution_count": 9,
   "id": "2a3cf9b3",
   "metadata": {},
   "outputs": [
    {
     "name": "stdout",
     "output_type": "stream",
     "text": [
      "Combined array:  [1 2 3 4 5 6]\n"
     ]
    }
   ],
   "source": [
    "arr1 = np.array([1,2,3])\n",
    "arr2 = np.array([4,5,6])\n",
    "\n",
    "combined = np.concatenate((arr1, arr2))\n",
    "print(\"Combined array: \", combined)\n"
   ]
  },
  {
   "cell_type": "markdown",
   "id": "ed72a930",
   "metadata": {},
   "source": [
    "### Array compatibilty"
   ]
  },
  {
   "cell_type": "code",
   "execution_count": 10,
   "id": "755357d2",
   "metadata": {},
   "outputs": [
    {
     "name": "stdout",
     "output_type": "stream",
     "text": [
      "compatibility shapes:  False\n"
     ]
    }
   ],
   "source": [
    "a = np.array([1,2,3])\n",
    "b = np.array([4,5,6,7])\n",
    "c = np.array([7,8,9]) \n",
    "\n",
    "print(\"compatibility shapes: \", a.shape == b.shape)"
   ]
  },
  {
   "cell_type": "code",
   "execution_count": 11,
   "id": "c7fa944b",
   "metadata": {},
   "outputs": [
    {
     "name": "stdout",
     "output_type": "stream",
     "text": [
      "[[1 2]\n",
      " [4 5]]\n",
      "[[1 2]\n",
      " [4 5]\n",
      " [3 4]]\n",
      "[[1 2 6]\n",
      " [4 5 7]]\n"
     ]
    }
   ],
   "source": [
    "original = np.array([[1,2],[4,5]])\n",
    "new_row = np.array([[3,4]])\n",
    "\n",
    "with_new_row = np.vstack((original, new_row))\n",
    "print(original)\n",
    "print(with_new_row)\n",
    "\n",
    "new_col = np.array([[6],[7]])\n",
    "with_new_col = np.hstack((original, new_col))\n",
    "print(with_new_col)\n"
   ]
  },
  {
   "cell_type": "code",
   "execution_count": 12,
   "id": "71ac85bc",
   "metadata": {},
   "outputs": [
    {
     "name": "stdout",
     "output_type": "stream",
     "text": [
      "Deleted element:  [1 2 4 5 6]\n"
     ]
    }
   ],
   "source": [
    "arr = np.array([1,2,3,4,5,6])\n",
    "deleted = np.delete(arr, 2)  # delete element at index 2\n",
    "print(\"Deleted element: \", deleted)\n"
   ]
  }
 ],
 "metadata": {
  "kernelspec": {
   "display_name": "Python 3",
   "language": "python",
   "name": "python3"
  },
  "language_info": {
   "codemirror_mode": {
    "name": "ipython",
    "version": 3
   },
   "file_extension": ".py",
   "mimetype": "text/x-python",
   "name": "python",
   "nbconvert_exporter": "python",
   "pygments_lexer": "ipython3",
   "version": "3.13.2"
  }
 },
 "nbformat": 4,
 "nbformat_minor": 5
}
