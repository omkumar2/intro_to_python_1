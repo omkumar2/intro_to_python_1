{
 "cells": [
  {
   "cell_type": "code",
   "execution_count": 1,
   "id": "86e6050a",
   "metadata": {},
   "outputs": [
    {
     "name": "stdout",
     "output_type": "stream",
     "text": [
      "v shape\n",
      "\\     /\n",
      " \\   /\n",
      "  \\ /\n",
      "   v\n"
     ]
    }
   ],
   "source": [
    "print(\"v shape\")\n",
    "\n",
    "\n",
    "n = int(input())\n",
    "for i in range(n-1):\n",
    "    print(f\"{' '*i}\\\\{' '*(2*(n-i)-3)}/\")\n",
    "print(' '*(n-1)+'v')\n",
    "\n"
   ]
  }
 ],
 "metadata": {
  "kernelspec": {
   "display_name": "Python 3",
   "language": "python",
   "name": "python3"
  },
  "language_info": {
   "codemirror_mode": {
    "name": "ipython",
    "version": 3
   },
   "file_extension": ".py",
   "mimetype": "text/x-python",
   "name": "python",
   "nbconvert_exporter": "python",
   "pygments_lexer": "ipython3",
   "version": "3.13.2"
  }
 },
 "nbformat": 4,
 "nbformat_minor": 5
}
